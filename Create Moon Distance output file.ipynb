{
 "cells": [
  {
   "cell_type": "markdown",
   "metadata": {},
   "source": [
    "# Import libraries"
   ]
  },
  {
   "cell_type": "code",
   "execution_count": 1,
   "metadata": {},
   "outputs": [],
   "source": [
    "import numpy as np\n",
    "import matplotlib as plt\n",
    "import operator\n",
    "from astropy.io import fits\n",
    "from astropy.table import Table, Column \n",
    "import sys\n",
    "import os \n",
    "from matplotlib.pyplot import figure\n",
    "import matplotlib.pyplot as plt\n",
    "import pandas as pd\n",
    "from pathlib import Path\n",
    "import seaborn as sns\n",
    "from scipy import stats\n",
    "from scipy.stats import pearsonr\n",
    "import ipywidgets as widgets"
   ]
  },
  {
   "cell_type": "markdown",
   "metadata": {},
   "source": [
    "# Load in 2020 fitspec files and create df"
   ]
  },
  {
   "cell_type": "code",
   "execution_count": null,
   "metadata": {},
   "outputs": [],
   "source": [
    "rootdir20 = '/Volumes/Extreme SSD/2020fitspec/'\n",
    "fitspec_files20 = [os.path.join(rootdir20,f) for f in os.listdir(rootdir20) if \n",
    "                 (f.endswith('.fits'))]\n",
    "\n",
    "moondistance20 = []\n",
    "target20 = []\n",
    "exp_thres20 = []\n",
    "exp_count20 = []\n",
    "date20 = []\n",
    "filename_df20 = []\n",
    "\n",
    "\n",
    "#for subdir, dirs, files in os.walk(rootdir): \n",
    "for item in fitspec_files20:\n",
    "\n",
    "    # get filename by itself, remove path from filename\n",
    "    fileName = os.path.basename(item)\n",
    "\n",
    "    hdus = fits.open(item)\n",
    "\n",
    "    head = hdus[0].header  \n",
    "\n",
    "    data = hdus[1].data\n",
    "\n",
    "    #hdr.items\n",
    "\n",
    "    data = hdus[1].data\n",
    "\n",
    "    if float(head['EXPCOUNT']) >= float(head['EXPTHRES']) :\n",
    "\n",
    "        moondistance20.append(float(head['MOONDIST']))\n",
    "        target20.append(head['OBJECT'])\n",
    "        exp_thres20.append(float(head['EXPTHRES']))\n",
    "        exp_count20.append(float(head['EXPCOUNT']))\n",
    "        date20.append(float(head['TELMJD']))\n",
    "        filename_df20.append(fileName)\n",
    "    \n",
    "    #print(head)\n",
    "\n",
    "df_20 = pd.DataFrame({'OBJECT': target20, 'TEL MJD': date20, 'Moon Distance': moondistance20, 'EXP COUNT': \n",
    "                    exp_count20, 'EXP THRESH': exp_thres20, 'FILE NAME': filename_df20})\n",
    "\n",
    "#print(df_20)\n",
    "df_20.reset_index(drop=True).style"
   ]
  },
  {
   "cell_type": "markdown",
   "metadata": {},
   "source": [
    "# Load in 2021 fitspec files"
   ]
  },
  {
   "cell_type": "code",
   "execution_count": null,
   "metadata": {},
   "outputs": [],
   "source": [
    "rootdir21 = '/Volumes/Extreme SSD/EXPRES-OBS/2021/fitspec/'\n",
    "\n",
    "fitspec_files21 = [os.path.join(rootdir21,f) for f in os.listdir(rootdir21) if \n",
    "                 (f.endswith('.fits'))]\n",
    "\n",
    "moondistance21 = []\n",
    "target21 = []\n",
    "exp_thres21 = []\n",
    "exp_count21 = []\n",
    "date21 = []\n",
    "filename_df21 = []\n",
    "\n",
    "\n",
    "#for subdir, dirs, files in os.walk(rootdir): \n",
    "for items in fitspec_files21:\n",
    "\n",
    "    # get filename by itself, remove path from filename\n",
    "    fileNames = os.path.basename(item)\n",
    "\n",
    "    hdu = fits.open(items)\n",
    "\n",
    "    heads = hdu[0].header  \n",
    "\n",
    "    dat = hdu[1].data\n",
    "\n",
    "    #hdr.items\n",
    "\n",
    "    dat = hdu[1].data\n",
    "\n",
    "    if float(heads['EXPCOUNT']) >= float(heads['EXPTHRES']) :\n",
    "\n",
    "        moondistance21.append(float(heads['MOONDIST']))\n",
    "        target21.append(heads['OBJECT'])\n",
    "        exp_thres21.append(float(heads['EXPTHRES']))\n",
    "        exp_count21.append(float(heads['EXPCOUNT']))\n",
    "        date21.append(float(heads['TELMJD']))\n",
    "        filename_df21.append(fileNames)\n",
    "    \n",
    "\n",
    "df_21 = pd.DataFrame({'OBJECT': target21, 'TEL MJD': date21, 'Moon Distance': moondistance21, 'EXP COUNT': \n",
    "                    exp_count21, 'EXP THRESH': exp_thres21, 'FILE NAME': filename_df21})\n",
    "\n",
    "#print(df_21)\n",
    "df_21.reset_index(drop=True).style"
   ]
  },
  {
   "cell_type": "markdown",
   "metadata": {},
   "source": [
    "# Combine 2020 & 2021 data frames"
   ]
  },
  {
   "cell_type": "code",
   "execution_count": null,
   "metadata": {},
   "outputs": [],
   "source": [
    "frames = [df_20, df_21]\n",
    "\n",
    "result_df = pd.concat(frames)\n",
    "#print(result_df)\n",
    "result_df.reset_index(drop=True).style"
   ]
  },
  {
   "cell_type": "markdown",
   "metadata": {},
   "source": [
    "# Sort combined 2020 + 2021 df's. Reset index. "
   ]
  },
  {
   "cell_type": "code",
   "execution_count": null,
   "metadata": {},
   "outputs": [],
   "source": [
    "sorted_df = result_df.sort_values(by=['TEL MJD'], ascending=True)\n",
    "sorted_df = sorted_df.reset_index(drop=True)\n",
    "\n",
    "#print(sorted_df)\n",
    "sorted_df.reset_index(drop=True).style"
   ]
  },
  {
   "cell_type": "markdown",
   "metadata": {},
   "source": [
    "# Load in vels files and create df_2"
   ]
  },
  {
   "cell_type": "code",
   "execution_count": null,
   "metadata": {},
   "outputs": [],
   "source": [
    "# Load in vels/cbc_python files\n",
    "\n",
    "directory2 = '/Volumes/Extreme SSD/EXPRES-OBS/vels/' # cbc_python\n",
    "vels_files = [os.path.join(directory2,f) for f in os.listdir(directory2) if \n",
    "                 (f.endswith('.fits'))]\n",
    "\n",
    "\n",
    "date = []\n",
    "rv = []\n",
    "rv_err = []\n",
    "filename_df2 = []\n",
    "\n",
    "\n",
    "for file in vels_files: \n",
    "    #print (\"---\", vels_files)\n",
    "    \n",
    "    try:\n",
    "        #print(x)\n",
    "\n",
    "        # get filename by itself, remove path from filename\n",
    "        fileNames = os.path.basename(file)\n",
    "\n",
    "        hdus = fits.open(file) # Read fits file into hdus variable \n",
    "\n",
    "        #print(len(hdus))\n",
    "\n",
    "        hdr = hdus[1].header #1\n",
    "\n",
    "        data = hdus[1].data # 1, place data from HDU 1 into data variable\n",
    "        \n",
    "        if hdr['RV_ERR'] >= 0.1:\n",
    "            #print(hdr)\n",
    "            #print(fileNames)\n",
    "            date.append(hdr['MJD'])\n",
    "            rv.append(hdr['RV'])\n",
    "            rv_err.append(hdr['RV_ERR'])\n",
    "            filename_df2.append(fileNames) \n",
    "            \n",
    "    except:\n",
    "        print(fileNames + \" does not contain MJD\")\n"
   ]
  },
  {
   "cell_type": "code",
   "execution_count": null,
   "metadata": {},
   "outputs": [],
   "source": [
    "# Sort df_v by date\n",
    "\n",
    "df_v = pd.DataFrame({'FILE NAME': filename_df2, 'MJD': date, 'RV': rv, 'RV Error': rv_err})\n",
    "#sorted_df_2 = df_2.sort_values(by=['MJD'], ascending=True)\n",
    "#print(df_v)\n",
    "\n",
    "df_v.reset_index(drop=True).style"
   ]
  },
  {
   "cell_type": "markdown",
   "metadata": {},
   "source": [
    "# Left merge df and df_2 based on filename. Create merged_df"
   ]
  },
  {
   "cell_type": "code",
   "execution_count": null,
   "metadata": {},
   "outputs": [],
   "source": [
    "merged_left = pd.merge(left=sorted_df, right=df_v, how='left', left_on='FILE NAME', right_on='FILE NAME')\n",
    "pd.set_option('display.expand_frame_repr', False)\n",
    "\n",
    "merged_df = merged_left.dropna()\n",
    "#merged_df = merged_left.reset_index(drop=True)\n",
    "\n",
    "#print(merged_df)\n",
    "merged_df.reset_index(drop=True).style"
   ]
  },
  {
   "cell_type": "code",
   "execution_count": null,
   "metadata": {},
   "outputs": [],
   "source": [
    "target_list = merged_df['OBJECT'].value_counts()  # get counts of each target\n",
    "\n",
    "#find which objects have min 20 observations\n",
    "good_targets = target_list[(target_list >= 20)] \n",
    "#print(good_targets)\n",
    "\n",
    "good_obs = np.zeros(len(merged_df), dtype=bool) # creating empty bool array of zeros of same length as data frame\n",
    "\n",
    "for obj in good_targets.keys():      # loop through every object name of good targets \n",
    "    good_obs = good_obs | (merged_df['OBJECT']==obj)    # or matches, 1's for \n",
    "\n",
    "    \n",
    "new_df = merged_df[good_obs]\n",
    "\n",
    "#print(new_df)\n",
    "\n",
    "print(np.sum(good_obs))\n",
    "#new_df.reset_index(drop=True).style"
   ]
  },
  {
   "cell_type": "code",
   "execution_count": null,
   "metadata": {},
   "outputs": [],
   "source": [
    "new_df.reset_index(drop=True).style"
   ]
  },
  {
   "cell_type": "code",
   "execution_count": null,
   "metadata": {},
   "outputs": [],
   "source": [
    "#good_targets.describe()\n",
    "\n",
    "np.sum(merged_df['OBJECT'] == '166620')\n",
    "np.sum(good_targets)"
   ]
  },
  {
   "cell_type": "markdown",
   "metadata": {},
   "source": [
    "# Print merged_df in txt file"
   ]
  },
  {
   "cell_type": "code",
   "execution_count": null,
   "metadata": {},
   "outputs": [],
   "source": [
    "f = open(\"Moon Distance df output.txt\", \"w\") # \"w\" - Write will create a file if the specified file does not exist\n",
    "\n",
    "sys.stdout = f # record everyhing after this in output file\n",
    "\n",
    "result = new_df.to_string(index=False, header=True)\n",
    "\n",
    "print(result)\n",
    "\n",
    "\n",
    "sys.stdout.close()"
   ]
  },
  {
   "cell_type": "code",
   "execution_count": null,
   "metadata": {},
   "outputs": [],
   "source": []
  }
 ],
 "metadata": {
  "kernelspec": {
   "display_name": "Python 3",
   "language": "python",
   "name": "python3"
  },
  "language_info": {
   "codemirror_mode": {
    "name": "ipython",
    "version": 3
   },
   "file_extension": ".py",
   "mimetype": "text/x-python",
   "name": "python",
   "nbconvert_exporter": "python",
   "pygments_lexer": "ipython3",
   "version": "3.8.5"
  }
 },
 "nbformat": 4,
 "nbformat_minor": 4
}
